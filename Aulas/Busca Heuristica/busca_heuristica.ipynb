{
 "cells": [
  {
   "cell_type": "code",
   "execution_count": 3,
   "metadata": {},
   "outputs": [],
   "source": [
    "#Matriz visual usada pra montar a matris de adjacência\n",
    "matriz = [ [0, 1, 2],\n",
    "           [3, 4, 5],\n",
    "           [6, 7, 8], ]\n",
    "'''\n",
    "  0  |  1     2\n",
    "             --- \n",
    "  3     4     5\n",
    " ---  \n",
    "  6     7  |  8\n",
    "Ir do 0 ao 8\n",
    "sem bater nas paredes\n",
    "'''\n",
    "\n",
    "# Variável onde seu índice representa a posíção no labirinto\n",
    "# E seu valor representa os possíveis lugares para se mover\n",
    "nos = [\n",
    "    [3],#nó 0\n",
    "    [4, 2],#nó 1\n",
    "    [1],#nó 2\n",
    "    [4, 0],#nó 3\n",
    "    [7, 5, 1],#nó 4\n",
    "    [8, 4, 2],#nó 5\n",
    "    [7],#nó 6\n",
    "    [6, 4],#nó 7\n",
    "    [5] #nó 8\n",
    "]\n",
    "\n",
    "inicio = 0\n",
    "final = 8"
   ]
  },
  {
   "cell_type": "code",
   "execution_count": 16,
   "metadata": {},
   "outputs": [
    {
     "name": "stdout",
     "output_type": "stream",
     "text": [
      "Distância entre a entrada e Saída: \n",
      "4\n",
      "4\n"
     ]
    }
   ],
   "source": [
    "\n",
    "#Função para testar qual a distância espacial do nó n para o nó final\n",
    "def retorna_h(destino, node):\n",
    "    def h(n):\n",
    "        def caminhar(pos, visitados, distancia):\n",
    "            caminhos = node[pos]\n",
    "            distancias = []\n",
    "            visitados.add(pos)\n",
    "            if pos == destino:\n",
    "                return distancia\n",
    "            distancia += 1\n",
    "            for novo_pos in caminhos:\n",
    "                if novo_pos == destino:\n",
    "                    return distancia\n",
    "                if not novo_pos in visitados:\n",
    "                    try:\n",
    "                        distancias.append( caminhar(novo_pos,set(visitados), distancia) )\n",
    "                    except:\n",
    "                        pass\n",
    "            return min(distancias)\n",
    "\n",
    "\n",
    "        try:\n",
    "            return caminhar(n,set(), 0)\n",
    "        except:\n",
    "            return None\n",
    "                    \n",
    "    return h\n",
    "\n",
    "meu_h = retorna_h(final, nos)\n",
    "\n",
    "print(\"Distância entre a entrada e Saída: \")\n",
    "print( meu_h(0) )"
   ]
  },
  {
   "cell_type": "code",
   "execution_count": 17,
   "metadata": {},
   "outputs": [],
   "source": [
    "# heuristica definida\n",
    "\n",
    "def retorna_caminho(destino, node, meu_h):\n",
    "    def meu_f(n):\n",
    "        def calculo_f(pos, g_anterior):\n",
    "            valor = meu_h(pos)\n",
    "            if not valor:\n",
    "                raise Exception('Não há caminho para determinado destino')\n",
    "            return g_anterior + valor\n",
    "        pos = n\n",
    "        g = 0\n",
    "        path = [pos]\n",
    "        try:\n",
    "            while True:\n",
    "                menor = 999999\n",
    "                idx_menor = -1\n",
    "                caminhos = node[pos]\n",
    "                for caminho in caminhos:\n",
    "                    if caminho == destino:\n",
    "                        path.append(caminho)\n",
    "                        return path\n",
    "                    if caminho in path:\n",
    "                        continue\n",
    "                    heuristica = calculo_f(caminho, g+1)\n",
    "                    print('heuristica: ', heuristica)\n",
    "                    if heuristica < menor:\n",
    "                        menor = heuristica\n",
    "                        idx_menor = caminho\n",
    "                if idx_menor != -1:\n",
    "                    pos = idx_menor\n",
    "                    path.append(idx_menor)\n",
    "                    g += 1\n",
    "                    continue\n",
    "                else:\n",
    "                    break\n",
    "        except:\n",
    "            return []\n",
    "        return path\n",
    "    return meu_f"
   ]
  },
  {
   "cell_type": "code",
   "execution_count": 18,
   "metadata": {},
   "outputs": [
    {
     "name": "stdout",
     "output_type": "stream",
     "text": [
      "heuristica:  4\n",
      "heuristica:  4\n",
      "heuristica:  6\n",
      "heuristica:  4\n",
      "heuristica:  6\n",
      "0 => 3 => 4 => 5 => 8\n"
     ]
    }
   ],
   "source": [
    "calcular_caminho = retorna_caminho(final, nos, meu_h)\n",
    "\n",
    "\n",
    "texto = ''\n",
    "caminhos = calcular_caminho(0)\n",
    "for i in range( len(caminhos) ):\n",
    "    passagem = caminhos[i]\n",
    "    if i != 0:\n",
    "        texto += ' => '\n",
    "    texto += str(passagem)\n",
    "\n",
    "print(texto)"
   ]
  }
 ],
 "metadata": {
  "kernelspec": {
   "display_name": "Python 3.10.4 64-bit",
   "language": "python",
   "name": "python3"
  },
  "language_info": {
   "codemirror_mode": {
    "name": "ipython",
    "version": 3
   },
   "file_extension": ".py",
   "mimetype": "text/x-python",
   "name": "python",
   "nbconvert_exporter": "python",
   "pygments_lexer": "ipython3",
   "version": "3.10.4"
  },
  "orig_nbformat": 4,
  "vscode": {
   "interpreter": {
    "hash": "916dbcbb3f70747c44a77c7bcd40155683ae19c65e1c03b4aa3499c5328201f1"
   }
  }
 },
 "nbformat": 4,
 "nbformat_minor": 2
}
