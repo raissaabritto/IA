{
 "cells": [
  {
   "cell_type": "markdown",
   "metadata": {},
   "source": [
    "## Busca em Profundidade"
   ]
  },
  {
   "cell_type": "markdown",
   "metadata": {},
   "source": [
    "O algoritmo de busca em profundidade é percorrer todos os caminhos de um grafo de forma sistemática. Grosso modo, o algoritmo funciona assim. Começando por um vértice qualquer, e indo \"o mais fundo possível\". Sempre que encontramos um vértice já visitado, retornamos da busca."
   ]
  },
  {
   "cell_type": "code",
   "execution_count": null,
   "metadata": {},
   "outputs": [],
   "source": [
    "grafo = [ [1],           # Vizinhos do vértice 0.\n",
    "          [2, 3],        # Vizinhos do vértice 1.\n",
    "          [1, 4],        # Vizinhos do vértice 2.\n",
    "          [0],           # Vizinhos do vértice 3.\n",
    "          [1]            # Vizinhos do vértice 4.\n",
    "        ]"
   ]
  },
  {
   "cell_type": "markdown",
   "metadata": {},
   "source": [
    "![Grafo](ExemploGrafoImplicito.png)"
   ]
  },
  {
   "cell_type": "markdown",
   "metadata": {},
   "source": [
    "Porém, antes de partirmos para a implementação propriamente dita, tentaremos explicar de forma mais técnica o funcionamento da busca em profundidade. Ela começa a partir de um vértice arbitrário r, que é chamado de raiz da busca (esse vértice é também algumas vezes chamado de vértice fonte). O vértice r é marcado como visitado."
   ]
  },
  {
   "cell_type": "markdown",
   "metadata": {},
   "source": [
    "A seguir, seleciona-se um vértice qualquer r1, dentre os vizinhos de r que ainda não tenham sido marcados visitados, e uma nova DFS é iniciada recursivamente a partir dele. A recursão termina ao encontrar um vértice v cujos vizinhos estejam todos marcados como visitados. Se após a DFS em r1 terminar todos os outros vértices adjacentes a r já tiverem sido marcados como visitados, a DFS em r também termina"
   ]
  },
  {
   "cell_type": "markdown",
   "metadata": {},
   "source": [
    "Caso contrário, seleciona-se um outro vértice arbitrário r2 adjacente a r e ainda não marcado como visitado. Uma nova DFS é iniciada em r2. Esse procedimento é repetido até que todos os vértices do grafo tenham sido marcados como visitados."
   ]
  },
  {
   "cell_type": "code",
   "execution_count": null,
   "metadata": {},
   "outputs": [],
   "source": [
    "def dfs(grafo, vertice):\n",
    "    visitados = set()\n",
    "\n",
    "    def dfs_recursiva(grafo, vertice):\n",
    "        print(\"Origem: \", vertice)\n",
    "        visitados.add(vertice)\n",
    "        for vizinho in grafo[vertice]:\n",
    "            print(\"Posso visitar?: \", vizinho)\n",
    "            if vizinho not in visitados:\n",
    "                print(\"Visitando: \", vizinho)\n",
    "                dfs_recursiva(grafo, vizinho)\n",
    "            else:\n",
    "                print(\"Já foi visitado: \", vizinho)\n",
    "\n",
    "\n",
    "    dfs_recursiva(grafo, vertice)\n",
    "    print(\"Elementos Visitados: \", visitados)"
   ]
  },
  {
   "cell_type": "code",
   "execution_count": null,
   "metadata": {},
   "outputs": [],
   "source": [
    "dfs(grafo, 0)"
   ]
  }
 ],
 "metadata": {
  "kernelspec": {
   "display_name": "Python 3.10.2 64-bit",
   "language": "python",
   "name": "python3"
  },
  "language_info": {
   "name": "python",
   "version": "3.10.2"
  },
  "orig_nbformat": 4,
  "vscode": {
   "interpreter": {
    "hash": "26de051ba29f2982a8de78e945f0abaf191376122a1563185a90213a26c5da77"
   }
  }
 },
 "nbformat": 4,
 "nbformat_minor": 2
}
